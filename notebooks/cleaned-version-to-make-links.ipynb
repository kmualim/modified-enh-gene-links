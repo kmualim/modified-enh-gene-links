{
 "cells": [
  {
   "cell_type": "code",
   "execution_count": 2,
   "metadata": {},
   "outputs": [],
   "source": [
    "import pandas as pd "
   ]
  },
  {
   "cell_type": "markdown",
   "metadata": {},
   "source": [
    "## Importing both enhancers and genes files \n",
    "Both Enhancers and Genes contain bed formats "
   ]
  },
  {
   "cell_type": "code",
   "execution_count": 3,
   "metadata": {},
   "outputs": [],
   "source": [
    "target_genes = pd.read_csv(\"enh-gene-pairs/EnhancerPredictions_d3.txt\", sep=\"\\t\")\n",
    "gene_list = pd.read_csv(\"GeneList/GeneList_d6.bed\", sep=\"\\t\", header=None)"
   ]
  },
  {
   "cell_type": "code",
   "execution_count": 4,
   "metadata": {},
   "outputs": [
    {
     "name": "stdout",
     "output_type": "stream",
     "text": [
      "148538\n"
     ]
    }
   ],
   "source": [
    "print(len(target_genes))"
   ]
  },
  {
   "cell_type": "code",
   "execution_count": 5,
   "metadata": {},
   "outputs": [
    {
     "data": {
      "text/html": [
       "<div>\n",
       "<style scoped>\n",
       "    .dataframe tbody tr th:only-of-type {\n",
       "        vertical-align: middle;\n",
       "    }\n",
       "\n",
       "    .dataframe tbody tr th {\n",
       "        vertical-align: top;\n",
       "    }\n",
       "\n",
       "    .dataframe thead th {\n",
       "        text-align: right;\n",
       "    }\n",
       "</style>\n",
       "<table border=\"1\" class=\"dataframe\">\n",
       "  <thead>\n",
       "    <tr style=\"text-align: right;\">\n",
       "      <th></th>\n",
       "      <th>chr</th>\n",
       "      <th>start</th>\n",
       "      <th>end</th>\n",
       "      <th>H3K27ac.primary_keratinocyte-d3.GGR.Stanford_Snyder.ChIP-seq_H3K27ac.b1.t1.ACTTGA.1.PE2SE.nodup.bam.readCount</th>\n",
       "      <th>H3K27ac.primary_keratinocyte-d3.GGR.Stanford_Snyder.ChIP-seq_H3K27ac.b1.t1.ACTTGA.1.PE2SE.nodup.bam.RPM</th>\n",
       "      <th>H3K27ac.primary_keratinocyte-d3.GGR.Stanford_Snyder.ChIP-seq_H3K27ac.b1.t1.ACTTGA.1.PE2SE.nodup.bam.readCount.quantile</th>\n",
       "      <th>H3K27ac.primary_keratinocyte-d3.GGR.Stanford_Snyder.ChIP-seq_H3K27ac.b1.t1.ACTTGA.1.PE2SE.nodup.bam.RPM.quantile</th>\n",
       "      <th>H3K27ac.primary_keratinocyte-d3.GGR.Stanford_Snyder.ChIP-seq_H3K27ac.b1.t1.ACTTGA.1.PE2SE.nodup.bam.RPKM</th>\n",
       "      <th>H3K27ac.primary_keratinocyte-d3.GGR.Stanford_Snyder.ChIP-seq_H3K27ac.b1.t1.ACTTGA.1.PE2SE.nodup.bam.RPKM.quantile</th>\n",
       "      <th>H3K27ac.RPM</th>\n",
       "      <th>...</th>\n",
       "      <th>name</th>\n",
       "      <th>distance</th>\n",
       "      <th>isSelfPromoter</th>\n",
       "      <th>TargetGene</th>\n",
       "      <th>TargetGeneTSS</th>\n",
       "      <th>TargetGeneExpression</th>\n",
       "      <th>TargetGenePromoterActivityQuantile</th>\n",
       "      <th>distance_score</th>\n",
       "      <th>ABC.distance.Numerator</th>\n",
       "      <th>ABC.distance</th>\n",
       "    </tr>\n",
       "  </thead>\n",
       "  <tbody>\n",
       "    <tr>\n",
       "      <th>0</th>\n",
       "      <td>chr1</td>\n",
       "      <td>937119</td>\n",
       "      <td>937619</td>\n",
       "      <td>48</td>\n",
       "      <td>1.1682</td>\n",
       "      <td>0.7841</td>\n",
       "      <td>0.7841</td>\n",
       "      <td>2.3365</td>\n",
       "      <td>0.8760</td>\n",
       "      <td>1.1682</td>\n",
       "      <td>...</td>\n",
       "      <td>intergenic|chr1:937119-937619</td>\n",
       "      <td>42690.0</td>\n",
       "      <td>False</td>\n",
       "      <td>NOC2L</td>\n",
       "      <td>894679</td>\n",
       "      <td>7.88</td>\n",
       "      <td>0.5456</td>\n",
       "      <td>0.0000</td>\n",
       "      <td>0.0000</td>\n",
       "      <td>0.0016</td>\n",
       "    </tr>\n",
       "    <tr>\n",
       "      <th>1</th>\n",
       "      <td>chr1</td>\n",
       "      <td>959917</td>\n",
       "      <td>960417</td>\n",
       "      <td>33</td>\n",
       "      <td>0.8032</td>\n",
       "      <td>0.6921</td>\n",
       "      <td>0.6921</td>\n",
       "      <td>1.6063</td>\n",
       "      <td>0.7926</td>\n",
       "      <td>0.8032</td>\n",
       "      <td>...</td>\n",
       "      <td>genic|chr1:959917-960417</td>\n",
       "      <td>65488.0</td>\n",
       "      <td>False</td>\n",
       "      <td>NOC2L</td>\n",
       "      <td>894679</td>\n",
       "      <td>7.88</td>\n",
       "      <td>0.5456</td>\n",
       "      <td>0.0000</td>\n",
       "      <td>0.0000</td>\n",
       "      <td>0.0011</td>\n",
       "    </tr>\n",
       "    <tr>\n",
       "      <th>2</th>\n",
       "      <td>chr1</td>\n",
       "      <td>876884</td>\n",
       "      <td>877384</td>\n",
       "      <td>6</td>\n",
       "      <td>0.1460</td>\n",
       "      <td>0.1268</td>\n",
       "      <td>0.1268</td>\n",
       "      <td>0.2921</td>\n",
       "      <td>0.1585</td>\n",
       "      <td>0.1460</td>\n",
       "      <td>...</td>\n",
       "      <td>genic|chr1:876884-877384</td>\n",
       "      <td>17545.0</td>\n",
       "      <td>False</td>\n",
       "      <td>NOC2L</td>\n",
       "      <td>894679</td>\n",
       "      <td>7.88</td>\n",
       "      <td>0.5456</td>\n",
       "      <td>0.0001</td>\n",
       "      <td>0.0000</td>\n",
       "      <td>0.0014</td>\n",
       "    </tr>\n",
       "    <tr>\n",
       "      <th>3</th>\n",
       "      <td>chr1</td>\n",
       "      <td>911358</td>\n",
       "      <td>912290</td>\n",
       "      <td>15</td>\n",
       "      <td>0.3651</td>\n",
       "      <td>0.3991</td>\n",
       "      <td>0.3991</td>\n",
       "      <td>0.3917</td>\n",
       "      <td>0.2486</td>\n",
       "      <td>0.3651</td>\n",
       "      <td>...</td>\n",
       "      <td>genic|chr1:911358-912290</td>\n",
       "      <td>17145.0</td>\n",
       "      <td>False</td>\n",
       "      <td>NOC2L</td>\n",
       "      <td>894679</td>\n",
       "      <td>7.88</td>\n",
       "      <td>0.5456</td>\n",
       "      <td>0.0001</td>\n",
       "      <td>0.0001</td>\n",
       "      <td>0.0041</td>\n",
       "    </tr>\n",
       "    <tr>\n",
       "      <th>4</th>\n",
       "      <td>chr1</td>\n",
       "      <td>846254</td>\n",
       "      <td>846987</td>\n",
       "      <td>39</td>\n",
       "      <td>0.9492</td>\n",
       "      <td>0.7365</td>\n",
       "      <td>0.7365</td>\n",
       "      <td>1.2950</td>\n",
       "      <td>0.7278</td>\n",
       "      <td>0.9492</td>\n",
       "      <td>...</td>\n",
       "      <td>intergenic|chr1:846254-846987</td>\n",
       "      <td>48058.5</td>\n",
       "      <td>False</td>\n",
       "      <td>NOC2L</td>\n",
       "      <td>894679</td>\n",
       "      <td>7.88</td>\n",
       "      <td>0.5456</td>\n",
       "      <td>0.0000</td>\n",
       "      <td>0.0000</td>\n",
       "      <td>0.0024</td>\n",
       "    </tr>\n",
       "  </tbody>\n",
       "</table>\n",
       "<p>5 rows × 42 columns</p>\n",
       "</div>"
      ],
      "text/plain": [
       "    chr   start     end  \\\n",
       "0  chr1  937119  937619   \n",
       "1  chr1  959917  960417   \n",
       "2  chr1  876884  877384   \n",
       "3  chr1  911358  912290   \n",
       "4  chr1  846254  846987   \n",
       "\n",
       "   H3K27ac.primary_keratinocyte-d3.GGR.Stanford_Snyder.ChIP-seq_H3K27ac.b1.t1.ACTTGA.1.PE2SE.nodup.bam.readCount  \\\n",
       "0                                                 48                                                               \n",
       "1                                                 33                                                               \n",
       "2                                                  6                                                               \n",
       "3                                                 15                                                               \n",
       "4                                                 39                                                               \n",
       "\n",
       "   H3K27ac.primary_keratinocyte-d3.GGR.Stanford_Snyder.ChIP-seq_H3K27ac.b1.t1.ACTTGA.1.PE2SE.nodup.bam.RPM  \\\n",
       "0                                             1.1682                                                         \n",
       "1                                             0.8032                                                         \n",
       "2                                             0.1460                                                         \n",
       "3                                             0.3651                                                         \n",
       "4                                             0.9492                                                         \n",
       "\n",
       "   H3K27ac.primary_keratinocyte-d3.GGR.Stanford_Snyder.ChIP-seq_H3K27ac.b1.t1.ACTTGA.1.PE2SE.nodup.bam.readCount.quantile  \\\n",
       "0                                             0.7841                                                                        \n",
       "1                                             0.6921                                                                        \n",
       "2                                             0.1268                                                                        \n",
       "3                                             0.3991                                                                        \n",
       "4                                             0.7365                                                                        \n",
       "\n",
       "   H3K27ac.primary_keratinocyte-d3.GGR.Stanford_Snyder.ChIP-seq_H3K27ac.b1.t1.ACTTGA.1.PE2SE.nodup.bam.RPM.quantile  \\\n",
       "0                                             0.7841                                                                  \n",
       "1                                             0.6921                                                                  \n",
       "2                                             0.1268                                                                  \n",
       "3                                             0.3991                                                                  \n",
       "4                                             0.7365                                                                  \n",
       "\n",
       "   H3K27ac.primary_keratinocyte-d3.GGR.Stanford_Snyder.ChIP-seq_H3K27ac.b1.t1.ACTTGA.1.PE2SE.nodup.bam.RPKM  \\\n",
       "0                                             2.3365                                                          \n",
       "1                                             1.6063                                                          \n",
       "2                                             0.2921                                                          \n",
       "3                                             0.3917                                                          \n",
       "4                                             1.2950                                                          \n",
       "\n",
       "   H3K27ac.primary_keratinocyte-d3.GGR.Stanford_Snyder.ChIP-seq_H3K27ac.b1.t1.ACTTGA.1.PE2SE.nodup.bam.RPKM.quantile  \\\n",
       "0                                             0.8760                                                                   \n",
       "1                                             0.7926                                                                   \n",
       "2                                             0.1585                                                                   \n",
       "3                                             0.2486                                                                   \n",
       "4                                             0.7278                                                                   \n",
       "\n",
       "   H3K27ac.RPM      ...                                name  distance  \\\n",
       "0       1.1682      ...       intergenic|chr1:937119-937619   42690.0   \n",
       "1       0.8032      ...            genic|chr1:959917-960417   65488.0   \n",
       "2       0.1460      ...            genic|chr1:876884-877384   17545.0   \n",
       "3       0.3651      ...            genic|chr1:911358-912290   17145.0   \n",
       "4       0.9492      ...       intergenic|chr1:846254-846987   48058.5   \n",
       "\n",
       "   isSelfPromoter  TargetGene  TargetGeneTSS  TargetGeneExpression  \\\n",
       "0           False       NOC2L         894679                  7.88   \n",
       "1           False       NOC2L         894679                  7.88   \n",
       "2           False       NOC2L         894679                  7.88   \n",
       "3           False       NOC2L         894679                  7.88   \n",
       "4           False       NOC2L         894679                  7.88   \n",
       "\n",
       "   TargetGenePromoterActivityQuantile  distance_score  ABC.distance.Numerator  \\\n",
       "0                              0.5456          0.0000                  0.0000   \n",
       "1                              0.5456          0.0000                  0.0000   \n",
       "2                              0.5456          0.0001                  0.0000   \n",
       "3                              0.5456          0.0001                  0.0001   \n",
       "4                              0.5456          0.0000                  0.0000   \n",
       "\n",
       "   ABC.distance  \n",
       "0        0.0016  \n",
       "1        0.0011  \n",
       "2        0.0014  \n",
       "3        0.0041  \n",
       "4        0.0024  \n",
       "\n",
       "[5 rows x 42 columns]"
      ]
     },
     "execution_count": 5,
     "metadata": {},
     "output_type": "execute_result"
    }
   ],
   "source": [
    "target_genes.head()"
   ]
  },
  {
   "cell_type": "code",
   "execution_count": 6,
   "metadata": {
    "scrolled": true
   },
   "outputs": [
    {
     "name": "stdout",
     "output_type": "stream",
     "text": [
      "148538\n"
     ]
    }
   ],
   "source": [
    "print(len(target_genes))"
   ]
  },
  {
   "cell_type": "code",
   "execution_count": 7,
   "metadata": {},
   "outputs": [],
   "source": [
    "gene_list.columns=['chr', 'start', 'end', 'TargetGene', 'score', 'strand']"
   ]
  },
  {
   "cell_type": "code",
   "execution_count": 8,
   "metadata": {},
   "outputs": [
    {
     "data": {
      "text/html": [
       "<div>\n",
       "<style scoped>\n",
       "    .dataframe tbody tr th:only-of-type {\n",
       "        vertical-align: middle;\n",
       "    }\n",
       "\n",
       "    .dataframe tbody tr th {\n",
       "        vertical-align: top;\n",
       "    }\n",
       "\n",
       "    .dataframe thead th {\n",
       "        text-align: right;\n",
       "    }\n",
       "</style>\n",
       "<table border=\"1\" class=\"dataframe\">\n",
       "  <thead>\n",
       "    <tr style=\"text-align: right;\">\n",
       "      <th></th>\n",
       "      <th>chr</th>\n",
       "      <th>start</th>\n",
       "      <th>end</th>\n",
       "      <th>TargetGene</th>\n",
       "      <th>score</th>\n",
       "      <th>strand</th>\n",
       "    </tr>\n",
       "  </thead>\n",
       "  <tbody>\n",
       "    <tr>\n",
       "      <th>0</th>\n",
       "      <td>chr1</td>\n",
       "      <td>11873</td>\n",
       "      <td>14409</td>\n",
       "      <td>DDX11L1</td>\n",
       "      <td>0</td>\n",
       "      <td>+</td>\n",
       "    </tr>\n",
       "    <tr>\n",
       "      <th>1</th>\n",
       "      <td>chr1</td>\n",
       "      <td>14361</td>\n",
       "      <td>29370</td>\n",
       "      <td>WASH7P</td>\n",
       "      <td>0</td>\n",
       "      <td>-</td>\n",
       "    </tr>\n",
       "    <tr>\n",
       "      <th>2</th>\n",
       "      <td>chr1</td>\n",
       "      <td>34610</td>\n",
       "      <td>36081</td>\n",
       "      <td>FAM138A</td>\n",
       "      <td>0</td>\n",
       "      <td>-</td>\n",
       "    </tr>\n",
       "    <tr>\n",
       "      <th>3</th>\n",
       "      <td>chr1</td>\n",
       "      <td>34610</td>\n",
       "      <td>36081</td>\n",
       "      <td>FAM138F</td>\n",
       "      <td>0</td>\n",
       "      <td>-</td>\n",
       "    </tr>\n",
       "    <tr>\n",
       "      <th>4</th>\n",
       "      <td>chr1</td>\n",
       "      <td>69090</td>\n",
       "      <td>70008</td>\n",
       "      <td>OR4F5</td>\n",
       "      <td>0</td>\n",
       "      <td>+</td>\n",
       "    </tr>\n",
       "  </tbody>\n",
       "</table>\n",
       "</div>"
      ],
      "text/plain": [
       "    chr  start    end TargetGene  score strand\n",
       "0  chr1  11873  14409    DDX11L1      0      +\n",
       "1  chr1  14361  29370     WASH7P      0      -\n",
       "2  chr1  34610  36081    FAM138A      0      -\n",
       "3  chr1  34610  36081    FAM138F      0      -\n",
       "4  chr1  69090  70008      OR4F5      0      +"
      ]
     },
     "execution_count": 8,
     "metadata": {},
     "output_type": "execute_result"
    }
   ],
   "source": [
    "gene_list.head()"
   ]
  },
  {
   "cell_type": "code",
   "execution_count": 10,
   "metadata": {},
   "outputs": [],
   "source": [
    "unique_genes = target_genes['TargetGene'].drop_duplicates()"
   ]
  },
  {
   "cell_type": "code",
   "execution_count": 12,
   "metadata": {},
   "outputs": [],
   "source": [
    "genomic_positions=[]\n",
    "chr_=[]\n",
    "start_=[]\n",
    "end_=[]\n",
    "for i in gene_list['TargetGene'][:5]:\n",
    "    matches = target_genes.loc[target_genes['TargetGene']==i]\n",
    "    gene = gene_list.loc[gene_list['TargetGene']==i]\n",
    "    length_a = len(matches)\n",
    "    if len(matches)==0: \n",
    "        continue\n",
    "    else:\n",
    "        for i in range(length_a):\n",
    "            chr_.append(gene['chr'].values)\n",
    "            start_.append(gene['start'].values)\n",
    "            end_.append(gene['end'].values)\n",
    "        genomic_positions.append(matches[['chr', 'start', 'end', 'ABC.distance']])"
   ]
  },
  {
   "cell_type": "code",
   "execution_count": 14,
   "metadata": {},
   "outputs": [],
   "source": [
    "def create_gene_df(chr_, start_, end_):\n",
    "    chr_1 = [i[0] for i in chr_]\n",
    "    start_1=[i[0] for i in start_]\n",
    "    end_1=[i[0] for i in end_]\n",
    "    genes = {'chr': chr_1, 'start': start_1, 'end': end_1}\n",
    "    df = pd.DataFrame(genes)"
   ]
  },
  {
   "cell_type": "code",
   "execution_count": 147,
   "metadata": {},
   "outputs": [],
   "source": [
    "df = create_gene_df(chr_,start_,end_)\n",
    "df.to_csv(\"test.txt\", index=False)"
   ]
  },
  {
   "cell_type": "code",
   "execution_count": 179,
   "metadata": {},
   "outputs": [],
   "source": [
    "def make_into_df(genomic_positions): \n",
    "    chr_ = [i[\"chr\"].values for i in genomic_positions]\n",
    "    chr_1 = np.concatenate(chr_)\n",
    "    start_ = [i['start'].values for i in genomic_positions]\n",
    "    start_1 = np.concatenate(start_)\n",
    "    end_ = [i['end'].values for i in genomic_positions]\n",
    "    end_1 = np.concatenate(end_)\n",
    "    scores_ = [i['ABC.distance'].values for i in genomic_positions]\n",
    "    scores_1 = np.concatenate(scores_)\n",
    "    test = {'chr':chr_1, 'start':start_1, 'end':end_1, 'score':scores_1}\n",
    "    df = pd.DataFrame(test)\n",
    "    return df"
   ]
  },
  {
   "cell_type": "code",
   "execution_count": 180,
   "metadata": {},
   "outputs": [],
   "source": [
    "df_2 = make_into_df(genomic_positions)"
   ]
  },
  {
   "cell_type": "code",
   "execution_count": 181,
   "metadata": {},
   "outputs": [
    {
     "name": "stdout",
     "output_type": "stream",
     "text": [
      "    chr   start     end   score\n",
      "0  chr1  937119  937619  0.0016\n",
      "1  chr1  959917  960417  0.0011\n",
      "2  chr1  876884  877384  0.0014\n",
      "3  chr1  911358  912290  0.0041\n",
      "4  chr1  846254  846987  0.0024\n"
     ]
    }
   ],
   "source": [
    "print(df_2[:5])"
   ]
  },
  {
   "cell_type": "code",
   "execution_count": 183,
   "metadata": {},
   "outputs": [],
   "source": [
    "df_2.to_csv(\"enh-gene-pairs/enh_regions_d3_0.001.txt\", index=False)"
   ]
  },
  {
   "cell_type": "code",
   "execution_count": null,
   "metadata": {},
   "outputs": [],
   "source": []
  }
 ],
 "metadata": {
  "kernelspec": {
   "display_name": "Python 3",
   "language": "python",
   "name": "python3"
  },
  "language_info": {
   "codemirror_mode": {
    "name": "ipython",
    "version": 3
   },
   "file_extension": ".py",
   "mimetype": "text/x-python",
   "name": "python",
   "nbconvert_exporter": "python",
   "pygments_lexer": "ipython3",
   "version": "3.6.5"
  }
 },
 "nbformat": 4,
 "nbformat_minor": 2
}
